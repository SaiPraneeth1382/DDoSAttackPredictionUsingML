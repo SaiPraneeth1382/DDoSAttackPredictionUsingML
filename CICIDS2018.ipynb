{
  "cells": [
    {
      "cell_type": "code",
      "execution_count": 1,
      "metadata": {
        "id": "kVBULaYbxJvw"
      },
      "outputs": [],
      "source": [
        "import pandas as pd\n",
        "import numpy as np\n",
        "import matplotlib.pyplot as plt\n",
        "import joblib\n",
        "import sklearn\n",
        "from sklearn.preprocessing import MinMaxScaler\n",
        "from sklearn.ensemble import RandomForestClassifier\n",
        "from sklearn.model_selection import GridSearchCV, train_test_split\n",
        "from sklearn.metrics import roc_curve, roc_auc_score, accuracy_score, f1_score, precision_score, recall_score, classification_report, confusion_matrix\n",
        "from sklearn.utils import class_weight\n",
        "import time\n",
        "\n",
        "RANDOM_STATE_SEED = 12 "
      ]
    },
    {
      "cell_type": "code",
      "source": [
        "from google.colab import drive\n",
        "drive.mount('/content/drive')"
      ],
      "metadata": {
        "colab": {
          "base_uri": "https://localhost:8080/"
        },
        "id": "iDBvKcF_Dtza",
        "outputId": "0e8ad0d6-ea1b-44f3-cfb6-01a793e52487"
      },
      "execution_count": 2,
      "outputs": [
        {
          "output_type": "stream",
          "name": "stdout",
          "text": [
            "Drive already mounted at /content/drive; to attempt to forcibly remount, call drive.mount(\"/content/drive\", force_remount=True).\n"
          ]
        }
      ]
    },
    {
      "cell_type": "code",
      "execution_count": 3,
      "metadata": {
        "id": "0jwwiij8xUjD"
      },
      "outputs": [],
      "source": [
        "df = pd.read_csv(\"./drive/MyDrive/CICIDS2018.csv\", low_memory=False)"
      ]
    },
    {
      "cell_type": "code",
      "execution_count": 4,
      "metadata": {
        "id": "f2IorxypxjWT"
      },
      "outputs": [],
      "source": [
        "df.replace([np.inf, -np.inf], np.nan, inplace=True)"
      ]
    },
    {
      "cell_type": "code",
      "execution_count": 5,
      "metadata": {
        "id": "TZjRotLcxlLH"
      },
      "outputs": [],
      "source": [
        "# drop missing values\n",
        "df.dropna(inplace=True)"
      ]
    },
    {
      "cell_type": "code",
      "execution_count": 6,
      "metadata": {
        "colab": {
          "base_uri": "https://localhost:8080/"
        },
        "id": "QLhPH9ffxlFb",
        "outputId": "aa609798-5100-4c17-82bd-863b211e1ccb"
      },
      "outputs": [
        {
          "output_type": "execute_result",
          "data": {
            "text/plain": [
              "DDOS attack-HOIC        686012\n",
              "Benign                  360833\n",
              "DDOS attack-LOIC-UDP      1730\n",
              "Name: Label, dtype: int64"
            ]
          },
          "metadata": {},
          "execution_count": 6
        }
      ],
      "source": [
        "df[\"Label\"].value_counts()"
      ]
    },
    {
      "cell_type": "code",
      "execution_count": 7,
      "metadata": {
        "id": "3ilFyTSOxo-C"
      },
      "outputs": [],
      "source": [
        "df.replace(to_replace=[\"DDOS attack-HOIC\", \"DDOS attack-LOIC-UDP\"], value=\"Malicious\", inplace=True)"
      ]
    },
    {
      "cell_type": "code",
      "execution_count": 8,
      "metadata": {
        "colab": {
          "base_uri": "https://localhost:8080/"
        },
        "id": "2DLPAXRrxqwb",
        "outputId": "c5698197-545b-4a4d-eba2-17f0d2a6ddfa"
      },
      "outputs": [
        {
          "output_type": "execute_result",
          "data": {
            "text/plain": [
              "Malicious    687742\n",
              "Benign       360833\n",
              "Name: Label, dtype: int64"
            ]
          },
          "metadata": {},
          "execution_count": 8
        }
      ],
      "source": [
        "df[\"Label\"].value_counts()"
      ]
    },
    {
      "cell_type": "code",
      "source": [
        "#using matplotlib to plot the label column for pie chart\n",
        "\n",
        "labels = [\"not_malicious\",\"malicious\"]\n",
        "\n",
        "\n",
        "size = [dict(df['Label'].value_counts())['Benign'],dict(df['Label'].value_counts())['Malicious']]\n",
        "plt.pie(size,labels = labels)\n",
        "\n",
        "plt.legend([\"not_malicious\", \"malicious\"])\n",
        "plt.show()"
      ],
      "metadata": {
        "colab": {
          "base_uri": "https://localhost:8080/",
          "height": 406
        },
        "id": "q7fPUTRzLzDS",
        "outputId": "14cf5ba5-b3c6-493f-b4b1-f7f62f1e0926"
      },
      "execution_count": 9,
      "outputs": [
        {
          "output_type": "display_data",
          "data": {
            "text/plain": [
              "<Figure size 640x480 with 1 Axes>"
            ],
            "image/png": "[encoded data removed]"
          },
          "metadata": {}
        }
      ]
    },
    {
      "cell_type": "code",
      "execution_count": 10,
      "metadata": {
        "colab": {
          "base_uri": "https://localhost:8080/"
        },
        "id": "5nhL1nCOxskU",
        "outputId": "93f30ef9-7a21-485f-8c50-a0222900d4b2"
      },
      "outputs": [
        {
          "output_type": "stream",
          "name": "stdout",
          "text": [
            "17557\n"
          ]
        }
      ],
      "source": [
        "print(df.duplicated().sum())"
      ]
    },
    {
      "cell_type": "code",
      "execution_count": 11,
      "metadata": {
        "id": "pfX7ckNVxuNu"
      },
      "outputs": [],
      "source": [
        "df.drop_duplicates(inplace = True)"
      ]
    },
    {
      "cell_type": "code",
      "execution_count": 12,
      "metadata": {
        "colab": {
          "base_uri": "https://localhost:8080/"
        },
        "id": "nxaHd2Z8xuTA",
        "outputId": "e94f4428-d2f7-434a-c917-417f8dc2188f"
      },
      "outputs": [
        {
          "output_type": "stream",
          "name": "stdout",
          "text": [
            "0\n"
          ]
        }
      ],
      "source": [
        "print(df.duplicated().sum())"
      ]
    },
    {
      "cell_type": "code",
      "execution_count": 13,
      "metadata": {
        "id": "WR--4o1jyCC6"
      },
      "outputs": [],
      "source": [
        "df1 = df[df[\"Label\"] == \"Benign\"][:35985]\n",
        "df2 = df[df[\"Label\"] == \"Malicious\"][:35985]\n",
        "df_equal = pd.concat([ df1,df2], axis =0)"
      ]
    },
    {
      "cell_type": "code",
      "execution_count": 14,
      "metadata": {
        "id": "4i5rhMeoyD-g"
      },
      "outputs": [],
      "source": [
        "df_equal.replace(to_replace=\"Benign\", value=0, inplace=True)\n",
        "df_equal.replace(to_replace=\"Malicious\", value=1, inplace=True)"
      ]
    },
    {
      "cell_type": "code",
      "execution_count": 15,
      "metadata": {
        "id": "P-DHQtN_yIRy"
      },
      "outputs": [],
      "source": [
        "train, test = train_test_split(df_equal, test_size=0.3, random_state=RANDOM_STATE_SEED)"
      ]
    },
    {
      "cell_type": "code",
      "execution_count": 16,
      "metadata": {
        "id": "YU-hQ_00yS5O"
      },
      "outputs": [],
      "source": [
        "min_max_scaler = MinMaxScaler().fit(train[['Flow Duration', 'Tot Fwd Pkts',\n",
        "       'Tot Bwd Pkts', 'TotLen Fwd Pkts', 'TotLen Bwd Pkts', 'Fwd Pkt Len Max',\n",
        "       'Fwd Pkt Len Min', 'Fwd Pkt Len Mean', 'Fwd Pkt Len Std',\n",
        "       'Bwd Pkt Len Max', 'Bwd Pkt Len Min', 'Bwd Pkt Len Mean',\n",
        "       'Bwd Pkt Len Std', 'Flow Byts/s', 'Flow Pkts/s', 'Flow IAT Mean',\n",
        "       'Flow IAT Std', 'Flow IAT Max', 'Flow IAT Min', 'Fwd IAT Tot',\n",
        "       'Fwd IAT Mean', 'Fwd IAT Std', 'Fwd IAT Max', 'Fwd IAT Min',\n",
        "       'Bwd IAT Tot', 'Bwd IAT Mean', 'Bwd IAT Std', 'Bwd IAT Max',\n",
        "       'Bwd IAT Min', 'Fwd PSH Flags', 'Bwd PSH Flags', 'Fwd URG Flags',\n",
        "       'Bwd URG Flags', 'Fwd Header Len', 'Bwd Header Len', 'Fwd Pkts/s',\n",
        "       'Bwd Pkts/s', 'Pkt Len Min', 'Pkt Len Max', 'Pkt Len Mean',\n",
        "       'Pkt Len Std', 'Pkt Len Var', 'FIN Flag Cnt', 'SYN Flag Cnt',\n",
        "       'RST Flag Cnt', 'PSH Flag Cnt', 'ACK Flag Cnt', 'URG Flag Cnt',\n",
        "       'CWE Flag Count', 'ECE Flag Cnt', 'Down/Up Ratio', 'Pkt Size Avg',\n",
        "       'Fwd Seg Size Avg', 'Bwd Seg Size Avg', 'Fwd Byts/b Avg',\n",
        "       'Fwd Pkts/b Avg', 'Fwd Blk Rate Avg', 'Bwd Byts/b Avg',\n",
        "       'Bwd Pkts/b Avg', 'Bwd Blk Rate Avg', 'Subflow Fwd Pkts',\n",
        "       'Subflow Fwd Byts', 'Subflow Bwd Pkts', 'Subflow Bwd Byts',\n",
        "       'Init Fwd Win Byts', 'Init Bwd Win Byts', 'Fwd Act Data Pkts',\n",
        "       'Fwd Seg Size Min', 'Active Mean', 'Active Std', 'Active Max',\n",
        "       'Active Min', 'Idle Mean', 'Idle Std', 'Idle Max', 'Idle Min']])"
      ]
    },
    {
      "cell_type": "code",
      "execution_count": 17,
      "metadata": {
        "id": "DC6OORUqyXqs"
      },
      "outputs": [],
      "source": [
        "numerical_columns = ['Flow Duration', 'Tot Fwd Pkts',\n",
        "       'Tot Bwd Pkts', 'TotLen Fwd Pkts', 'TotLen Bwd Pkts', 'Fwd Pkt Len Max',\n",
        "       'Fwd Pkt Len Min', 'Fwd Pkt Len Mean', 'Fwd Pkt Len Std',\n",
        "       'Bwd Pkt Len Max', 'Bwd Pkt Len Min', 'Bwd Pkt Len Mean',\n",
        "       'Bwd Pkt Len Std', 'Flow Byts/s', 'Flow Pkts/s', 'Flow IAT Mean',\n",
        "       'Flow IAT Std', 'Flow IAT Max', 'Flow IAT Min', 'Fwd IAT Tot',\n",
        "       'Fwd IAT Mean', 'Fwd IAT Std', 'Fwd IAT Max', 'Fwd IAT Min',\n",
        "       'Bwd IAT Tot', 'Bwd IAT Mean', 'Bwd IAT Std', 'Bwd IAT Max',\n",
        "       'Bwd IAT Min', 'Fwd PSH Flags', 'Bwd PSH Flags', 'Fwd URG Flags',\n",
        "       'Bwd URG Flags', 'Fwd Header Len', 'Bwd Header Len', 'Fwd Pkts/s',\n",
        "       'Bwd Pkts/s', 'Pkt Len Min', 'Pkt Len Max', 'Pkt Len Mean',\n",
        "       'Pkt Len Std', 'Pkt Len Var', 'FIN Flag Cnt', 'SYN Flag Cnt',\n",
        "       'RST Flag Cnt', 'PSH Flag Cnt', 'ACK Flag Cnt', 'URG Flag Cnt',\n",
        "       'CWE Flag Count', 'ECE Flag Cnt', 'Down/Up Ratio', 'Pkt Size Avg',\n",
        "       'Fwd Seg Size Avg', 'Bwd Seg Size Avg', 'Fwd Byts/b Avg',\n",
        "       'Fwd Pkts/b Avg', 'Fwd Blk Rate Avg', 'Bwd Byts/b Avg',\n",
        "       'Bwd Pkts/b Avg', 'Bwd Blk Rate Avg', 'Subflow Fwd Pkts',\n",
        "       'Subflow Fwd Byts', 'Subflow Bwd Pkts', 'Subflow Bwd Byts',\n",
        "       'Init Fwd Win Byts', 'Init Bwd Win Byts', 'Fwd Act Data Pkts',\n",
        "       'Fwd Seg Size Min', 'Active Mean', 'Active Std', 'Active Max',\n",
        "       'Active Min', 'Idle Mean', 'Idle Std', 'Idle Max', 'Idle Min']"
      ]
    },
    {
      "cell_type": "code",
      "execution_count": 18,
      "metadata": {
        "id": "eyeHMAAhyZkO"
      },
      "outputs": [],
      "source": [
        "train[numerical_columns] = min_max_scaler.transform(train[numerical_columns])"
      ]
    },
    {
      "cell_type": "code",
      "execution_count": 19,
      "metadata": {
        "id": "OpweOJPFyb6E"
      },
      "outputs": [],
      "source": [
        "train.drop(['Timestamp'], axis=1,inplace=True)\n",
        "test.drop(['Timestamp'],axis=1,inplace=True)"
      ]
    },
    {
      "cell_type": "code",
      "execution_count": 20,
      "metadata": {
        "id": "OKiXnREeye3F"
      },
      "outputs": [],
      "source": [
        "test[numerical_columns] = min_max_scaler.transform(test[numerical_columns])"
      ]
    },
    {
      "cell_type": "code",
      "execution_count": 21,
      "metadata": {
        "colab": {
          "base_uri": "https://localhost:8080/"
        },
        "id": "xOQ_ksk9ynJD",
        "outputId": "07a19550-d618-41af-8aa3-8dd39f191a03"
      },
      "outputs": [
        {
          "output_type": "stream",
          "name": "stdout",
          "text": [
            "Full dataset:\n",
            "\n",
            "Benign: 35985\n",
            "Malicious: 35985\n",
            "---------------\n",
            "Training set:\n",
            "\n",
            "Benign: 25166\n",
            "Malicious: 25213\n",
            "---------------\n",
            "Test set:\n",
            "\n",
            "Benign: 10819\n",
            "Malicious: 10772\n"
          ]
        }
      ],
      "source": [
        "print(\"Full dataset:\\n\")\n",
        "print(\"Benign: \" + str(df_equal[\"Label\"].value_counts()[[0]].sum()))\n",
        "print(\"Malicious: \" + str(df_equal[\"Label\"].value_counts()[[1]].sum()))\n",
        "print(\"---------------\")\n",
        "\n",
        "print(\"Training set:\\n\")\n",
        "print(\"Benign: \" + str(train[\"Label\"].value_counts()[[0]].sum()))\n",
        "print(\"Malicious: \" + str(train[\"Label\"].value_counts()[[1]].sum()))\n",
        "print(\"---------------\")\n",
        "\n",
        "print(\"Test set:\\n\")\n",
        "print(\"Benign: \" + str(test[\"Label\"].value_counts()[[0]].sum()))\n",
        "print(\"Malicious: \" + str(test[\"Label\"].value_counts()[[1]].sum()))"
      ]
    },
    {
      "cell_type": "code",
      "execution_count": 22,
      "metadata": {
        "id": "BEUJm21mym-9"
      },
      "outputs": [],
      "source": [
        "y_train = np.array(train.pop(\"Label\"))# pop removes \"Label\" from the dataframe\n",
        "#y_train = np.array(train.pop(\"Timestamp\"))\n",
        "X_train = train.values"
      ]
    },
    {
      "cell_type": "code",
      "execution_count": 23,
      "metadata": {
        "id": "hxkRTs6CyrZ5"
      },
      "outputs": [],
      "source": [
        "y_test = np.array(test.pop(\"Label\")) # pop removes \"Label\" from the dataframe\n",
        "#y_test = np.array(test.pop(\"Timestamp\"))\n",
        "X_test = test.values"
      ]
    },
    {
      "cell_type": "code",
      "source": [
        "from sklearn.linear_model import LogisticRegression\n",
        "from sklearn.metrics import accuracy_score\n",
        "\n",
        "#creating a logisticregression object\n",
        "start_time = time.perf_counter()\n",
        "LR = LogisticRegression(max_iter=1000)\n",
        "\n",
        "#train the model using the training the data\n",
        "LR.fit(X_train, y_train)\n",
        "end_time = time.perf_counter()\n",
        "\n",
        "#predict the classes of test data\n",
        "y_pred = LR.predict(X_test)\n",
        "\n",
        "# calculate accuracy score\n",
        "accuracy = accuracy_score(y_test, y_pred)\n",
        "print('Accuracy:', accuracy)\n",
        "\n",
        "# compute F1 score\n",
        "f1 = f1_score(y_test, y_pred)\n",
        "print('F1 score:', f1)\n",
        "\n",
        "# compute precision\n",
        "precision = precision_score(y_test, y_pred)\n",
        "print('Precision:', precision)\n",
        "\n",
        "# compute recall\n",
        "recall = recall_score(y_test, y_pred)\n",
        "print('Recall:', recall)\n",
        "\n",
        "# compute classification report\n",
        "report = classification_report(y_test, y_pred)\n",
        "print('Classification report:\\n', report)\n",
        "\n",
        "# compute confusion matrix\n",
        "confusion = confusion_matrix(y_test, y_pred)\n",
        "print('Confusion matrix:\\n', confusion)\n",
        "\n",
        "# Calculate the computation time\n",
        "computation_time = end_time - start_time\n",
        "print(\"Computation time:\", computation_time, \"seconds\")"
      ],
      "metadata": {
        "colab": {
          "base_uri": "https://localhost:8080/"
        },
        "id": "E6NhmgCjBxuC",
        "outputId": "faf0c37d-dd19-4dbe-8d3b-c545dce40b43"
      },
      "execution_count": 24,
      "outputs": [
        {
          "output_type": "stream",
          "name": "stdout",
          "text": [
            "Accuracy: 0.9993052660830902\n",
            "F1 score: 0.9993042348903011\n",
            "Precision: 0.9986094372856216\n",
            "Recall: 1.0\n",
            "Classification report:\n",
            "               precision    recall  f1-score   support\n",
            "\n",
            "           0       1.00      1.00      1.00     10819\n",
            "           1       1.00      1.00      1.00     10772\n",
            "\n",
            "    accuracy                           1.00     21591\n",
            "   macro avg       1.00      1.00      1.00     21591\n",
            "weighted avg       1.00      1.00      1.00     21591\n",
            "\n",
            "Confusion matrix:\n",
            " [[10804    15]\n",
            " [    0 10772]]\n",
            "Computation time: 10.096357708999989 seconds\n"
          ]
        }
      ]
    },
    {
      "cell_type": "code",
      "source": [
        "from sklearn.neighbors import KNeighborsClassifier\n",
        "from sklearn.metrics import confusion_matrix\n",
        "from sklearn.metrics import f1_score\n",
        "from sklearn.metrics import accuracy_score\n",
        "\n",
        "start_time = time.perf_counter()\n",
        "#now initializing KNN\n",
        "KNN = KNeighborsClassifier(n_neighbors = 5)\n",
        "\n",
        "#train the KNN model\n",
        "KNN.fit(X_train,y_train)\n",
        "end_time = time.perf_counter()\n",
        "\n",
        "# calculate accuracy score\n",
        "accuracy = accuracy_score(y_test, y_pred)\n",
        "print('Accuracy:', accuracy)\n",
        "\n",
        "# compute F1 score\n",
        "f1 = f1_score(y_test, y_pred)\n",
        "print('F1 score:', f1)\n",
        "\n",
        "# compute precision\n",
        "precision = precision_score(y_test, y_pred)\n",
        "print('Precision:', precision)\n",
        "\n",
        "# compute recall\n",
        "recall = recall_score(y_test, y_pred)\n",
        "print('Recall:', recall)\n",
        "\n",
        "# compute classification report\n",
        "report = classification_report(y_test, y_pred)\n",
        "print('Classification report:\\n', report)\n",
        "\n",
        "# compute confusion matrix\n",
        "confusion = confusion_matrix(y_test, y_pred)\n",
        "print('Confusion matrix:\\n', confusion)\n",
        "\n",
        "# Calculate the computation time\n",
        "computation_time = end_time - start_time\n",
        "print(\"Computation time:\", computation_time, \"seconds\")"
      ],
      "metadata": {
        "colab": {
          "base_uri": "https://localhost:8080/"
        },
        "id": "2HV1CMhzDJGF",
        "outputId": "fe535c90-25a9-4dea-933c-995c9be90183"
      },
      "execution_count": 25,
      "outputs": [
        {
          "output_type": "stream",
          "name": "stdout",
          "text": [
            "Accuracy: 0.9993052660830902\n",
            "F1 score: 0.9993042348903011\n",
            "Precision: 0.9986094372856216\n",
            "Recall: 1.0\n",
            "Classification report:\n",
            "               precision    recall  f1-score   support\n",
            "\n",
            "           0       1.00      1.00      1.00     10819\n",
            "           1       1.00      1.00      1.00     10772\n",
            "\n",
            "    accuracy                           1.00     21591\n",
            "   macro avg       1.00      1.00      1.00     21591\n",
            "weighted avg       1.00      1.00      1.00     21591\n",
            "\n",
            "Confusion matrix:\n",
            " [[10804    15]\n",
            " [    0 10772]]\n",
            "Computation time: 0.03158385800000474 seconds\n"
          ]
        }
      ]
    },
    {
      "cell_type": "code",
      "source": [
        "from sklearn.tree import DecisionTreeClassifier\n",
        "from sklearn.metrics import confusion_matrix\n",
        "\n",
        "start_time = time.perf_counter()\n",
        "dt = DecisionTreeClassifier(random_state=42)\n",
        "\n",
        "# train the model using the training data\n",
        "dt.fit(X_train, y_train)\n",
        "end_time = time.perf_counter()\n",
        "\n",
        "# calculate accuracy score\n",
        "accuracy = accuracy_score(y_test, y_pred)\n",
        "print('Accuracy:', accuracy)\n",
        "\n",
        "# compute F1 score\n",
        "f1 = f1_score(y_test, y_pred)\n",
        "print('F1 score:', f1)\n",
        "\n",
        "# compute precision\n",
        "precision = precision_score(y_test, y_pred)\n",
        "print('Precision:', precision)\n",
        "\n",
        "# compute recall\n",
        "recall = recall_score(y_test, y_pred)\n",
        "print('Recall:', recall)\n",
        "\n",
        "# compute classification report\n",
        "report = classification_report(y_test, y_pred)\n",
        "print('Classification report:\\n', report)\n",
        "\n",
        "# compute confusion matrix\n",
        "confusion = confusion_matrix(y_test, y_pred)\n",
        "print('Confusion matrix:\\n', confusion)\n",
        "\n",
        "# Calculate the computation time\n",
        "computation_time = end_time - start_time\n",
        "print(\"Computation time:\", computation_time, \"seconds\")"
      ],
      "metadata": {
        "colab": {
          "base_uri": "https://localhost:8080/"
        },
        "id": "Dz9J48x9Dd-m",
        "outputId": "1ffc6e8d-93e5-45bc-a460-64ff9b1d7a74"
      },
      "execution_count": 26,
      "outputs": [
        {
          "output_type": "stream",
          "name": "stdout",
          "text": [
            "Accuracy: 0.9993052660830902\n",
            "F1 score: 0.9993042348903011\n",
            "Precision: 0.9986094372856216\n",
            "Recall: 1.0\n",
            "Classification report:\n",
            "               precision    recall  f1-score   support\n",
            "\n",
            "           0       1.00      1.00      1.00     10819\n",
            "           1       1.00      1.00      1.00     10772\n",
            "\n",
            "    accuracy                           1.00     21591\n",
            "   macro avg       1.00      1.00      1.00     21591\n",
            "weighted avg       1.00      1.00      1.00     21591\n",
            "\n",
            "Confusion matrix:\n",
            " [[10804    15]\n",
            " [    0 10772]]\n",
            "Computation time: 0.31277347399998234 seconds\n"
          ]
        }
      ]
    },
    {
      "cell_type": "code",
      "execution_count": 27,
      "metadata": {
        "colab": {
          "base_uri": "https://localhost:8080/"
        },
        "id": "PMkpRSY_yt7D",
        "outputId": "a90664a0-cb24-4a9c-b7b0-4541d7e0aab1"
      },
      "outputs": [
        {
          "output_type": "stream",
          "name": "stdout",
          "text": [
            "Accuracy: 0.999861053216618\n",
            "F1 score: 0.9998607694806702\n",
            "Precision: 0.9997215777262181\n",
            "Recall: 1.0\n",
            "Classification report:\n",
            "               precision    recall  f1-score   support\n",
            "\n",
            "           0       1.00      1.00      1.00     10819\n",
            "           1       1.00      1.00      1.00     10772\n",
            "\n",
            "    accuracy                           1.00     21591\n",
            "   macro avg       1.00      1.00      1.00     21591\n",
            "weighted avg       1.00      1.00      1.00     21591\n",
            "\n",
            "Confusion matrix:\n",
            " [[10816     3]\n",
            " [    0 10772]]\n",
            "Computation time: 4.882783208999996 seconds\n"
          ]
        }
      ],
      "source": [
        "from sklearn.ensemble import RandomForestClassifier\n",
        "from sklearn.metrics import confusion_matrix\n",
        "\n",
        "\n",
        "start_time = time.perf_counter()\n",
        "rf = RandomForestClassifier(random_state=42)\n",
        "\n",
        "# train the model using the training data\n",
        "rf.fit(X_train, y_train)\n",
        "end_time = time.perf_counter()\n",
        "\n",
        "# predict the classes of test data\n",
        "y_pred = rf.predict(X_test)\n",
        "\n",
        "# calculate accuracy score\n",
        "accuracy = accuracy_score(y_test, y_pred)\n",
        "print('Accuracy:', accuracy)\n",
        "\n",
        "# compute F1 score\n",
        "f1 = f1_score(y_test, y_pred)\n",
        "print('F1 score:', f1)\n",
        "\n",
        "# compute precision\n",
        "precision = precision_score(y_test, y_pred)\n",
        "print('Precision:', precision)\n",
        "\n",
        "# compute recall\n",
        "recall = recall_score(y_test, y_pred)\n",
        "print('Recall:', recall)\n",
        "\n",
        "# compute classification report\n",
        "report = classification_report(y_test, y_pred)\n",
        "print('Classification report:\\n', report)\n",
        "\n",
        "# compute confusion matrix\n",
        "confusion = confusion_matrix(y_test, y_pred)\n",
        "print('Confusion matrix:\\n', confusion)\n",
        "\n",
        "# Calculate the computation time\n",
        "computation_time = end_time - start_time\n",
        "print(\"Computation time:\", computation_time, \"seconds\")"
      ]
    },
    {
      "cell_type": "code",
      "source": [
        "from sklearn.ensemble import GradientBoostingClassifier\n",
        "\n",
        "start_time = time.perf_counter()\n",
        "# create a Gradient Boosting Classifier object\n",
        "gb = GradientBoostingClassifier(random_state=42)\n",
        "\n",
        "# train the model using the training data\n",
        "gb.fit(X_train, y_train)\n",
        "end_time = time.perf_counter()\n",
        "\n",
        "# predict the classes of test data\n",
        "y_pred = gb.predict(X_test)\n",
        "\n",
        "# calculate accuracy score\n",
        "accuracy = accuracy_score(y_test, y_pred)\n",
        "print('Accuracy:', accuracy)\n",
        "\n",
        "# compute F1 score\n",
        "f1 = f1_score(y_test, y_pred)\n",
        "print('F1 score:', f1)\n",
        "\n",
        "# compute precision\n",
        "precision = precision_score(y_test, y_pred)\n",
        "print('Precision:', precision)\n",
        "\n",
        "# compute recall\n",
        "recall = recall_score(y_test, y_pred)\n",
        "print('Recall:', recall)\n",
        "\n",
        "# compute classification report\n",
        "report = classification_report(y_test, y_pred)\n",
        "print('Classification report:\\n', report)\n",
        "\n",
        "# compute confusion matrix\n",
        "confusion = confusion_matrix(y_test, y_pred)\n",
        "print('Confusion matrix:\\n', confusion)\n",
        "\n",
        "# Calculate the computation time\n",
        "computation_time = end_time - start_time\n",
        "print(\"Computation time:\", computation_time, \"seconds\")"
      ],
      "metadata": {
        "colab": {
          "base_uri": "https://localhost:8080/"
        },
        "id": "Ug7JlchmEfUF",
        "outputId": "0d0d1be1-7528-4b3e-91d6-b7aec90756dc"
      },
      "execution_count": 28,
      "outputs": [
        {
          "output_type": "stream",
          "name": "stdout",
          "text": [
            "Accuracy: 1.0\n",
            "F1 score: 1.0\n",
            "Precision: 1.0\n",
            "Recall: 1.0\n",
            "Classification report:\n",
            "               precision    recall  f1-score   support\n",
            "\n",
            "           0       1.00      1.00      1.00     10819\n",
            "           1       1.00      1.00      1.00     10772\n",
            "\n",
            "    accuracy                           1.00     21591\n",
            "   macro avg       1.00      1.00      1.00     21591\n",
            "weighted avg       1.00      1.00      1.00     21591\n",
            "\n",
            "Confusion matrix:\n",
            " [[10819     0]\n",
            " [    0 10772]]\n",
            "Computation time: 37.390208629 seconds\n"
          ]
        }
      ]
    },
    {
      "cell_type": "code",
      "source": [
        "# Plot the AUC curve\n",
        "lr_prob = LR.predict_proba(X_test)[:, 1]\n",
        "knn_prob = KNN.predict_proba(X_test)[:, 1]\n",
        "dt_prob = dt.predict_proba(X_test)[:, 1]\n",
        "gb_prob = gb.predict_proba(X_test)[:, 1]\n",
        "rf_prob = rf.predict_proba(X_test)[:, 1]\n",
        "\n",
        "lr_fpr, lr_tpr, thresholds0 = roc_curve(y_test, lr_prob)\n",
        "knn_fpr, knn_tpr, thresholds1 = roc_curve(y_test, knn_prob)\n",
        "dt_fpr, dt_tpr, thresholds2 = roc_curve(y_test, dt_prob)\n",
        "gb_fpr, gb_tpr, thresholds3 = roc_curve(y_test, gb_prob)\n",
        "rf_fpr, rf_tpr, thresholds4 = roc_curve(y_test, rf_prob)\n",
        "\n",
        "# calculate ROC AUC score\n",
        "lr_auc = roc_auc_score(y_test, lr_prob)\n",
        "knn_auc = roc_auc_score(y_test, knn_prob)\n",
        "dt_auc = roc_auc_score(y_test, gb_prob)\n",
        "gb_auc = roc_auc_score(y_test, rf_prob)\n",
        "rf_auc = roc_auc_score(y_test, dt_prob)\n",
        "\n",
        "\n",
        "# plot ROC curves\n",
        "plt.plot(lr_fpr, lr_tpr, label=f\"Logistic Regression (AUC = {lr_auc:.2f})\")\n",
        "plt.plot(knn_fpr, knn_tpr, label=f\"K-Nearest Neighbors (AUC = {knn_auc:.2f})\")\n",
        "plt.plot(dt_fpr, dt_tpr, label=f\"Decision Tree (AUC = {dt_auc:.2f})\")\n",
        "plt.plot(gb_fpr, gb_tpr, label=f\"Decision Tree (AUC = {dt_auc:.2f})\")\n",
        "plt.plot(rf_fpr, rf_tpr, label=f\"Decision Tree (AUC = {dt_auc:.2f})\")\n",
        "plt.plot([0, 1], [0, 1], 'k--', label='Random Guessing')\n",
        "plt.xlabel('False Positive Rate')\n",
        "plt.ylabel('True Positive Rate')\n",
        "plt.title('ROC Curve')\n",
        "plt.legend()\n",
        "plt.show()"
      ],
      "metadata": {
        "colab": {
          "base_uri": "https://localhost:8080/",
          "height": 472
        },
        "id": "NIOYVhPNDXbO",
        "outputId": "24c96d57-ee65-410f-a2c1-fed06e8535ec"
      },
      "execution_count": 29,
      "outputs": [
        {
          "output_type": "display_data",
          "data": {
            "text/plain": [
              "<Figure size 640x480 with 1 Axes>"
            ],
            "image/png": "[encoded data removed]"
          },
          "metadata": {}
        }
      ]
    },
    {
      "cell_type": "code",
      "execution_count": 30,
      "metadata": {
        "id": "pLoa4DJG3c8L"
      },
      "outputs": [],
      "source": [
        "# from sklearn.ensemble import RandomForestClassifier\n",
        "# rf = RandomForestClassifier(n_estimators=60)\n",
        "\n",
        "# parameters = {'n_estimators': [50, 100, 150], 'max_depth': [None, 5, 10], 'min_samples_split': [2, 5, 10],\n",
        "#               'min_samples_leaf': [1, 2, 4]}\n",
        "\n",
        "# grid_search = GridSearchCV(estimator = rf, param_grid=parameters, scoring='accuracy', cv=4, n_jobs=-1)\n",
        "# grid_search.fit(X_train, y_train)\n",
        "\n",
        "# best_accuracy = grid_search.best_score_\n",
        "# best_parameters = grid_search.best_params_\n",
        "\n",
        "# print(\"Best Accuracy: {:.2f} %\".format(best_accuracy*100))\n",
        "# print(\"Best Parameters:\", best_parameters)"
      ]
    }
  ],
  "metadata": {
    "colab": {
      "provenance": []
    },
    "kernelspec": {
      "display_name": "Python 3",
      "name": "python3"
    },
    "language_info": {
      "name": "python"
    }
  },
  "nbformat": 4,
  "nbformat_minor": 0
}